{
 "cells": [
  {
   "cell_type": "code",
   "execution_count": null,
   "id": "960666b6",
   "metadata": {},
   "outputs": [],
   "source": [
    "from evidently import Report\n",
    "from evidently.presets import DataDriftPreset\n",
    "import pandas as pd"
   ]
  },
  {
   "cell_type": "code",
   "execution_count": null,
   "id": "729afafa",
   "metadata": {},
   "outputs": [],
   "source": [
    "df_reference = pd.read_csv(\"./../data/Telco-Customer-Churn.csv\").sample(500, random_state=1)\n",
    "df_current = pd.read_csv(\"./../data/Telco-Customer-Churn.csv\").sample(500, random_state=2)"
   ]
  },
  {
   "cell_type": "code",
   "execution_count": null,
   "id": "df35c6f9",
   "metadata": {},
   "outputs": [],
   "source": [
    "report = Report([\n",
    "    DataDriftPreset()\n",
    "])\n",
    "my_results = report.run(reference_data=df_reference, current_data=df_current)\n",
    "# report.save_html(\"./monitoring/drift_report.html\")\n",
    "my_results"
   ]
  },
  {
   "cell_type": "code",
   "execution_count": null,
   "id": "61e4b9a4",
   "metadata": {},
   "outputs": [],
   "source": []
  }
 ],
 "metadata": {
  "kernelspec": {
   "display_name": ".venv_py312_dev",
   "language": "python",
   "name": "python3"
  },
  "language_info": {
   "codemirror_mode": {
    "name": "ipython",
    "version": 3
   },
   "file_extension": ".py",
   "mimetype": "text/x-python",
   "name": "python",
   "nbconvert_exporter": "python",
   "pygments_lexer": "ipython3",
   "version": "3.12.7"
  }
 },
 "nbformat": 4,
 "nbformat_minor": 5
}
