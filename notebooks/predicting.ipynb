{
 "cells": [
  {
   "cell_type": "code",
   "execution_count": 1,
   "id": "c8f6f67f",
   "metadata": {},
   "outputs": [],
   "source": [
    "import mlflow.pyfunc\n",
    "import pandas as pd"
   ]
  },
  {
   "cell_type": "code",
   "execution_count": 3,
   "id": "ac89a502",
   "metadata": {},
   "outputs": [],
   "source": [
    "# import model\n",
    "MODEL_URI = 'models:/telco_churn_classifier/2'\n",
    "model = mlflow.pyfunc.load_model(MODEL_URI)"
   ]
  },
  {
   "cell_type": "code",
   "execution_count": null,
   "id": "0ff78a6e",
   "metadata": {},
   "outputs": [],
   "source": [
    "import pandas as pd\n",
    "\n",
    "sample_input = pd.DataFrame([])\n"
   ]
  },
  {
   "cell_type": "code",
   "execution_count": 14,
   "id": "f71f2d5c",
   "metadata": {},
   "outputs": [
    {
     "data": {
      "application/vnd.microsoft.datawrangler.viewer.v0+json": {
       "columns": [
        {
         "name": "index",
         "rawType": "int64",
         "type": "integer"
        },
        {
         "name": "tenure",
         "rawType": "int64",
         "type": "integer"
        },
        {
         "name": "MonthlyCharges",
         "rawType": "float64",
         "type": "float"
        },
        {
         "name": "TotalCharges",
         "rawType": "float64",
         "type": "float"
        },
        {
         "name": "gender_Male",
         "rawType": "int64",
         "type": "integer"
        },
        {
         "name": "SeniorCitizen_1",
         "rawType": "int64",
         "type": "integer"
        },
        {
         "name": "Partner_Yes",
         "rawType": "int64",
         "type": "integer"
        },
        {
         "name": "Dependents_Yes",
         "rawType": "int64",
         "type": "integer"
        },
        {
         "name": "PhoneService_Yes",
         "rawType": "int64",
         "type": "integer"
        },
        {
         "name": "MultipleLines_No",
         "rawType": "int64",
         "type": "integer"
        },
        {
         "name": "MultipleLines_No phone service",
         "rawType": "int64",
         "type": "integer"
        },
        {
         "name": "MultipleLines_Yes",
         "rawType": "int64",
         "type": "integer"
        },
        {
         "name": "InternetService_DSL",
         "rawType": "int64",
         "type": "integer"
        },
        {
         "name": "InternetService_Fiber optic",
         "rawType": "int64",
         "type": "integer"
        },
        {
         "name": "InternetService_No",
         "rawType": "int64",
         "type": "integer"
        },
        {
         "name": "OnlineSecurity_No",
         "rawType": "int64",
         "type": "integer"
        },
        {
         "name": "OnlineSecurity_No internet service",
         "rawType": "int64",
         "type": "integer"
        },
        {
         "name": "OnlineSecurity_Yes",
         "rawType": "int64",
         "type": "integer"
        },
        {
         "name": "OnlineBackup_No",
         "rawType": "int64",
         "type": "integer"
        },
        {
         "name": "OnlineBackup_No internet service",
         "rawType": "int64",
         "type": "integer"
        },
        {
         "name": "OnlineBackup_Yes",
         "rawType": "int64",
         "type": "integer"
        },
        {
         "name": "DeviceProtection_No",
         "rawType": "int64",
         "type": "integer"
        },
        {
         "name": "DeviceProtection_No internet service",
         "rawType": "int64",
         "type": "integer"
        },
        {
         "name": "DeviceProtection_Yes",
         "rawType": "int64",
         "type": "integer"
        },
        {
         "name": "TechSupport_No",
         "rawType": "int64",
         "type": "integer"
        },
        {
         "name": "TechSupport_No internet service",
         "rawType": "int64",
         "type": "integer"
        },
        {
         "name": "TechSupport_Yes",
         "rawType": "int64",
         "type": "integer"
        },
        {
         "name": "StreamingTV_No",
         "rawType": "int64",
         "type": "integer"
        },
        {
         "name": "StreamingTV_No internet service",
         "rawType": "int64",
         "type": "integer"
        },
        {
         "name": "StreamingTV_Yes",
         "rawType": "int64",
         "type": "integer"
        },
        {
         "name": "StreamingMovies_No",
         "rawType": "int64",
         "type": "integer"
        },
        {
         "name": "StreamingMovies_No internet service",
         "rawType": "int64",
         "type": "integer"
        },
        {
         "name": "StreamingMovies_Yes",
         "rawType": "int64",
         "type": "integer"
        },
        {
         "name": "Contract_Month-to-month",
         "rawType": "int64",
         "type": "integer"
        },
        {
         "name": "Contract_One year",
         "rawType": "int64",
         "type": "integer"
        },
        {
         "name": "Contract_Two year",
         "rawType": "int64",
         "type": "integer"
        },
        {
         "name": "PaperlessBilling_Yes",
         "rawType": "int64",
         "type": "integer"
        },
        {
         "name": "PaymentMethod_Bank transfer (automatic)",
         "rawType": "int64",
         "type": "integer"
        },
        {
         "name": "PaymentMethod_Credit card (automatic)",
         "rawType": "int64",
         "type": "integer"
        },
        {
         "name": "PaymentMethod_Electronic check",
         "rawType": "int64",
         "type": "integer"
        },
        {
         "name": "PaymentMethod_Mailed check",
         "rawType": "int64",
         "type": "integer"
        }
       ],
       "ref": "18af09d4-b08e-4d4c-b8d4-16ea0af012b8",
       "rows": [
        [
         "0",
         "12",
         "75.5",
         "906.0",
         "1",
         "0",
         "1",
         "0",
         "1",
         "0",
         "0",
         "1",
         "0",
         "1",
         "0",
         "1",
         "0",
         "0",
         "0",
         "0",
         "1",
         "1",
         "0",
         "0",
         "0",
         "0",
         "1",
         "0",
         "0",
         "1",
         "1",
         "0",
         "0",
         "1",
         "0",
         "0",
         "1",
         "0",
         "0",
         "1",
         "0"
        ]
       ],
       "shape": {
        "columns": 40,
        "rows": 1
       }
      },
      "text/html": [
       "<div>\n",
       "<style scoped>\n",
       "    .dataframe tbody tr th:only-of-type {\n",
       "        vertical-align: middle;\n",
       "    }\n",
       "\n",
       "    .dataframe tbody tr th {\n",
       "        vertical-align: top;\n",
       "    }\n",
       "\n",
       "    .dataframe thead th {\n",
       "        text-align: right;\n",
       "    }\n",
       "</style>\n",
       "<table border=\"1\" class=\"dataframe\">\n",
       "  <thead>\n",
       "    <tr style=\"text-align: right;\">\n",
       "      <th></th>\n",
       "      <th>tenure</th>\n",
       "      <th>MonthlyCharges</th>\n",
       "      <th>TotalCharges</th>\n",
       "      <th>gender_Male</th>\n",
       "      <th>SeniorCitizen_1</th>\n",
       "      <th>Partner_Yes</th>\n",
       "      <th>Dependents_Yes</th>\n",
       "      <th>PhoneService_Yes</th>\n",
       "      <th>MultipleLines_No</th>\n",
       "      <th>MultipleLines_No phone service</th>\n",
       "      <th>...</th>\n",
       "      <th>StreamingMovies_No internet service</th>\n",
       "      <th>StreamingMovies_Yes</th>\n",
       "      <th>Contract_Month-to-month</th>\n",
       "      <th>Contract_One year</th>\n",
       "      <th>Contract_Two year</th>\n",
       "      <th>PaperlessBilling_Yes</th>\n",
       "      <th>PaymentMethod_Bank transfer (automatic)</th>\n",
       "      <th>PaymentMethod_Credit card (automatic)</th>\n",
       "      <th>PaymentMethod_Electronic check</th>\n",
       "      <th>PaymentMethod_Mailed check</th>\n",
       "    </tr>\n",
       "  </thead>\n",
       "  <tbody>\n",
       "    <tr>\n",
       "      <th>0</th>\n",
       "      <td>12</td>\n",
       "      <td>75.5</td>\n",
       "      <td>906.0</td>\n",
       "      <td>1</td>\n",
       "      <td>0</td>\n",
       "      <td>1</td>\n",
       "      <td>0</td>\n",
       "      <td>1</td>\n",
       "      <td>0</td>\n",
       "      <td>0</td>\n",
       "      <td>...</td>\n",
       "      <td>0</td>\n",
       "      <td>0</td>\n",
       "      <td>1</td>\n",
       "      <td>0</td>\n",
       "      <td>0</td>\n",
       "      <td>1</td>\n",
       "      <td>0</td>\n",
       "      <td>0</td>\n",
       "      <td>1</td>\n",
       "      <td>0</td>\n",
       "    </tr>\n",
       "  </tbody>\n",
       "</table>\n",
       "<p>1 rows × 40 columns</p>\n",
       "</div>"
      ],
      "text/plain": [
       "   tenure  MonthlyCharges  TotalCharges  gender_Male  SeniorCitizen_1  \\\n",
       "0      12            75.5         906.0            1                0   \n",
       "\n",
       "   Partner_Yes  Dependents_Yes  PhoneService_Yes  MultipleLines_No  \\\n",
       "0            1               0                 1                 0   \n",
       "\n",
       "   MultipleLines_No phone service  ...  StreamingMovies_No internet service  \\\n",
       "0                               0  ...                                    0   \n",
       "\n",
       "   StreamingMovies_Yes  Contract_Month-to-month  Contract_One year  \\\n",
       "0                    0                        1                  0   \n",
       "\n",
       "   Contract_Two year  PaperlessBilling_Yes  \\\n",
       "0                  0                     1   \n",
       "\n",
       "   PaymentMethod_Bank transfer (automatic)  \\\n",
       "0                                        0   \n",
       "\n",
       "   PaymentMethod_Credit card (automatic)  PaymentMethod_Electronic check  \\\n",
       "0                                      0                               1   \n",
       "\n",
       "   PaymentMethod_Mailed check  \n",
       "0                           0  \n",
       "\n",
       "[1 rows x 40 columns]"
      ]
     },
     "execution_count": 14,
     "metadata": {},
     "output_type": "execute_result"
    }
   ],
   "source": [
    "# new data example data row (replace with a valid one from your dataset)\n",
    "new_sample = {\n",
    "    \"tenure\": 12,\n",
    "    \"MonthlyCharges\": 75.50,\n",
    "    \"TotalCharges\": 906.00,\n",
    "    \n",
    "    # Demographics\n",
    "    \"gender_Male\": 1,\n",
    "    \"SeniorCitizen_1\": 0,\n",
    "    \"Partner_Yes\": 1,\n",
    "    \"Dependents_Yes\": 0,\n",
    "\n",
    "    # Services\n",
    "    \"PhoneService_Yes\": 1,\n",
    "    \n",
    "    # One-hot for mutually exclusive 'MultipleLines'\n",
    "    \"MultipleLines_No\": 0,\n",
    "    \"MultipleLines_No phone service\": 0,\n",
    "    \"MultipleLines_Yes\": 1,\n",
    "\n",
    "    # Internet Service\n",
    "    \"InternetService_DSL\": 0,\n",
    "    \"InternetService_Fiber optic\": 1,\n",
    "    \"InternetService_No\": 0,\n",
    "\n",
    "    # Online Security\n",
    "    \"OnlineSecurity_No\": 1,\n",
    "    \"OnlineSecurity_No internet service\": 0,\n",
    "    \"OnlineSecurity_Yes\": 0,\n",
    "\n",
    "    # Online Backup\n",
    "    \"OnlineBackup_No\": 0,\n",
    "    \"OnlineBackup_No internet service\": 0,\n",
    "    \"OnlineBackup_Yes\": 1,\n",
    "\n",
    "    # Device Protection\n",
    "    \"DeviceProtection_No\": 1,\n",
    "    \"DeviceProtection_No internet service\": 0,\n",
    "    \"DeviceProtection_Yes\": 0,\n",
    "\n",
    "    # Tech Support\n",
    "    \"TechSupport_No\": 0,\n",
    "    \"TechSupport_No internet service\": 0,\n",
    "    \"TechSupport_Yes\": 1,\n",
    "\n",
    "    # Streaming TV\n",
    "    \"StreamingTV_No\": 0,\n",
    "    \"StreamingTV_No internet service\": 0,\n",
    "    \"StreamingTV_Yes\": 1,\n",
    "\n",
    "    # Streaming Movies\n",
    "    \"StreamingMovies_No\": 1,\n",
    "    \"StreamingMovies_No internet service\": 0,\n",
    "    \"StreamingMovies_Yes\": 0,\n",
    "\n",
    "    # Contract\n",
    "    \"Contract_Month-to-month\": 1,\n",
    "    \"Contract_One year\": 0,\n",
    "    \"Contract_Two year\": 0,\n",
    "\n",
    "    # Billing\n",
    "    \"PaperlessBilling_Yes\": 1,\n",
    "\n",
    "    # Payment Method\n",
    "    \"PaymentMethod_Bank transfer (automatic)\": 0,\n",
    "    \"PaymentMethod_Credit card (automatic)\": 0,\n",
    "    \"PaymentMethod_Electronic check\": 1,\n",
    "    \"PaymentMethod_Mailed check\": 0\n",
    "}\n",
    "input_df = pd.DataFrame([new_sample])\n",
    "input_df"
   ]
  },
  {
   "cell_type": "code",
   "execution_count": 15,
   "id": "e2aa4679",
   "metadata": {},
   "outputs": [
    {
     "name": "stdout",
     "output_type": "stream",
     "text": [
      "Prediction: 1.0\n"
     ]
    }
   ],
   "source": [
    "prediction = model.predict(input_df)\n",
    "print(\"Prediction:\", prediction[0])"
   ]
  },
  {
   "cell_type": "code",
   "execution_count": null,
   "id": "c6d9c7ca",
   "metadata": {},
   "outputs": [],
   "source": []
  }
 ],
 "metadata": {
  "kernelspec": {
   "display_name": ".venv_py312_dev",
   "language": "python",
   "name": "python3"
  },
  "language_info": {
   "codemirror_mode": {
    "name": "ipython",
    "version": 3
   },
   "file_extension": ".py",
   "mimetype": "text/x-python",
   "name": "python",
   "nbconvert_exporter": "python",
   "pygments_lexer": "ipython3",
   "version": "3.12.7"
  }
 },
 "nbformat": 4,
 "nbformat_minor": 5
}
