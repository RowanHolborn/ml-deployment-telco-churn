{
 "cells": [
  {
   "cell_type": "code",
   "execution_count": 2,
   "id": "b661cb0b",
   "metadata": {},
   "outputs": [],
   "source": [
    "import pandas as pd\n",
    "\n",
    "# modelling\n",
    "from sklearn.model_selection import StratifiedKFold\n",
    "from sklearn.model_selection import cross_validate\n",
    "from sklearn.ensemble import RandomForestClassifier\n",
    "from sklearn.linear_model import LogisticRegression\n",
    "from sklearn.metrics import f1_score\n",
    "\n",
    "# model registry\n",
    "import mlflow\n",
    "import mlflow.sklearn"
   ]
  },
  {
   "cell_type": "markdown",
   "id": "a285ed84",
   "metadata": {},
   "source": [
    "# Import Prepared Data"
   ]
  },
  {
   "cell_type": "code",
   "execution_count": 3,
   "id": "a7509b10",
   "metadata": {},
   "outputs": [],
   "source": [
    "X_train = pd.read_pickle('./../data/modelling/X_train.pkl')\n",
    "X_test = pd.read_pickle('./../data/modelling/X_test.pkl')\n",
    "y_train = pd.read_pickle('./../data/modelling/y_train.pkl')\n",
    "y_test = pd.read_pickle('./../data/modelling/y_test.pkl')"
   ]
  },
  {
   "cell_type": "markdown",
   "id": "93401bd2",
   "metadata": {},
   "source": [
    "# Modelling\n",
    "Note: \n",
    "- Model comparisons and hyperparameter tuning are skipped as the focus is on deployment of a basic model.\n",
    "- Improved modelling can be added at a later stage and incorporated into the ML model lifecycle"
   ]
  },
  {
   "cell_type": "code",
   "execution_count": 5,
   "id": "58d6177e",
   "metadata": {},
   "outputs": [
    {
     "data": {
      "text/plain": [
       "Index(['tenure', 'MonthlyCharges', 'TotalCharges', 'gender_Male',\n",
       "       'SeniorCitizen_1', 'Partner_Yes', 'Dependents_Yes', 'PhoneService_Yes',\n",
       "       'MultipleLines_No', 'MultipleLines_No phone service',\n",
       "       'MultipleLines_Yes', 'InternetService_DSL',\n",
       "       'InternetService_Fiber optic', 'InternetService_No',\n",
       "       'OnlineSecurity_No', 'OnlineSecurity_No internet service',\n",
       "       'OnlineSecurity_Yes', 'OnlineBackup_No',\n",
       "       'OnlineBackup_No internet service', 'OnlineBackup_Yes',\n",
       "       'DeviceProtection_No', 'DeviceProtection_No internet service',\n",
       "       'DeviceProtection_Yes', 'TechSupport_No',\n",
       "       'TechSupport_No internet service', 'TechSupport_Yes', 'StreamingTV_No',\n",
       "       'StreamingTV_No internet service', 'StreamingTV_Yes',\n",
       "       'StreamingMovies_No', 'StreamingMovies_No internet service',\n",
       "       'StreamingMovies_Yes', 'Contract_Month-to-month', 'Contract_One year',\n",
       "       'Contract_Two year', 'PaperlessBilling_Yes',\n",
       "       'PaymentMethod_Bank transfer (automatic)',\n",
       "       'PaymentMethod_Credit card (automatic)',\n",
       "       'PaymentMethod_Electronic check', 'PaymentMethod_Mailed check'],\n",
       "      dtype='object')"
      ]
     },
     "execution_count": 5,
     "metadata": {},
     "output_type": "execute_result"
    }
   ],
   "source": [
    "X_train.columns"
   ]
  },
  {
   "cell_type": "code",
   "execution_count": 13,
   "id": "a431f840",
   "metadata": {},
   "outputs": [
    {
     "name": "stderr",
     "output_type": "stream",
     "text": [
      "[Parallel(n_jobs=-1)]: Using backend LokyBackend with 22 concurrent workers.\n",
      "[Parallel(n_jobs=-1)]: Done   5 out of   5 | elapsed:    2.2s finished\n"
     ]
    }
   ],
   "source": [
    "model = RandomForestClassifier(n_estimators=100, random_state=42)\n",
    "cv = StratifiedKFold(n_splits=5, shuffle=True, random_state=42)\n",
    "scores = cross_validate(model, X_train, y_train, cv=cv, scoring=['accuracy', 'f1'], n_jobs=-1, verbose=1)"
   ]
  },
  {
   "cell_type": "code",
   "execution_count": 14,
   "id": "b170534a",
   "metadata": {},
   "outputs": [
    {
     "name": "stdout",
     "output_type": "stream",
     "text": [
      "Mean F1 Score: 0.5330 ± 0.0136\n",
      "Mean Accuracy: 0.7819 ± 0.0043\n"
     ]
    }
   ],
   "source": [
    "mean_f1 = scores['test_f1'].mean()\n",
    "mean_accuracy = scores['test_accuracy'].mean()\n",
    "std_f1 = scores['test_f1'].std()\n",
    "std_accuracy = scores['test_accuracy'].std()\n",
    "\n",
    "print(f'Mean F1 Score: {mean_f1:.4f} ± {std_f1:.4f}')\n",
    "print(f'Mean Accuracy: {mean_accuracy:.4f} ± {std_accuracy:.4f}')"
   ]
  },
  {
   "cell_type": "markdown",
   "id": "2a28f513",
   "metadata": {},
   "source": [
    "# Model Registering"
   ]
  },
  {
   "cell_type": "code",
   "execution_count": null,
   "id": "8feda0d5",
   "metadata": {},
   "outputs": [
    {
     "name": "stderr",
     "output_type": "stream",
     "text": [
      "2025/06/19 16:55:19 WARNING mlflow.models.model: Model logged without a signature and input example. Please set `input_example` parameter when logging the model to auto infer the model signature.\n",
      "Registered model 'telco_churn_classifier' already exists. Creating a new version of this model...\n",
      "Created version '2' of model 'telco_churn_classifier'.\n"
     ]
    }
   ],
   "source": [
    "with mlflow.start_run():\n",
    "    # log metrics from cv\n",
    "    mlflow.log_metric('cv_test_f1_mean', mean_f1)\n",
    "    mlflow.log_metric('cv_test_f1_std', std_f1)\n",
    "\n",
    "    # final model training\n",
    "    model.fit(X_train, y_train)\n",
    "\n",
    "    # register model\n",
    "    mlflow.sklearn.log_model(\n",
    "        sk_model=model,\n",
    "        name='telco_churn_classifier',\n",
    "        registered_model_name='telco_churn_classifier'\n",
    "    )"
   ]
  }
 ],
 "metadata": {
  "kernelspec": {
   "display_name": ".venv_py312_dev",
   "language": "python",
   "name": "python3"
  },
  "language_info": {
   "codemirror_mode": {
    "name": "ipython",
    "version": 3
   },
   "file_extension": ".py",
   "mimetype": "text/x-python",
   "name": "python",
   "nbconvert_exporter": "python",
   "pygments_lexer": "ipython3",
   "version": "3.12.7"
  }
 },
 "nbformat": 4,
 "nbformat_minor": 5
}
